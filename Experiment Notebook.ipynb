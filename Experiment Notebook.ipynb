{
 "cells": [
  {
   "cell_type": "markdown",
   "metadata": {},
   "source": [
    "# Experiment Notebook\n",
    "\n",
    "Where we can run our tournaments between different bots\n",
    "\n",
    "**ML-kbbot** against **kbbot** (Playing high cards)  \n",
    "**ML-bully** against **bully**  \n",
    "**ML-rdeep** against **rdeep**  \n",
    "**ML-kbbot** against **kbbot** (Playing low cards)  "
   ]
  },
  {
   "cell_type": "code",
   "execution_count": null,
   "metadata": {},
   "outputs": [],
   "source": []
  }
 ],
 "metadata": {
  "kernelspec": {
   "display_name": "Python 3",
   "language": "python",
   "name": "python3"
  },
  "language_info": {
   "codemirror_mode": {
    "name": "ipython",
    "version": 3
   },
   "file_extension": ".py",
   "mimetype": "text/x-python",
   "name": "python",
   "nbconvert_exporter": "python",
   "pygments_lexer": "ipython3",
   "version": "3.7.6"
  }
 },
 "nbformat": 4,
 "nbformat_minor": 4
}
